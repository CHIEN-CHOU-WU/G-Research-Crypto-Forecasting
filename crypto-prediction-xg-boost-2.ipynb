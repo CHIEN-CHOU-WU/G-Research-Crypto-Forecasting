{
 "cells": [
  {
   "cell_type": "code",
   "execution_count": 1,
   "id": "54c9eee6",
   "metadata": {
    "_cell_guid": "b1076dfc-b9ad-4769-8c92-a6c4dae69d19",
    "_uuid": "8f2839f25d086af736a60e9eeb907d3b93b6e0e5",
    "execution": {
     "iopub.execute_input": "2021-11-17T23:48:42.570110Z",
     "iopub.status.busy": "2021-11-17T23:48:42.561404Z",
     "iopub.status.idle": "2021-11-17T23:48:42.588312Z",
     "shell.execute_reply": "2021-11-17T23:48:42.589189Z",
     "shell.execute_reply.started": "2021-11-15T07:49:46.342463Z"
    },
    "papermill": {
     "duration": 0.071423,
     "end_time": "2021-11-17T23:48:42.589508",
     "exception": false,
     "start_time": "2021-11-17T23:48:42.518085",
     "status": "completed"
    },
    "tags": []
   },
   "outputs": [
    {
     "name": "stdout",
     "output_type": "stream",
     "text": [
      "/kaggle/input/g-research-crypto-forecasting/example_sample_submission.csv\n",
      "/kaggle/input/g-research-crypto-forecasting/asset_details.csv\n",
      "/kaggle/input/g-research-crypto-forecasting/example_test.csv\n",
      "/kaggle/input/g-research-crypto-forecasting/train.csv\n",
      "/kaggle/input/g-research-crypto-forecasting/supplemental_train.csv\n",
      "/kaggle/input/g-research-crypto-forecasting/gresearch_crypto/competition.cpython-37m-x86_64-linux-gnu.so\n",
      "/kaggle/input/g-research-crypto-forecasting/gresearch_crypto/__init__.py\n"
     ]
    }
   ],
   "source": [
    "# This Python 3 environment comes with many helpful analytics libraries installed\n",
    "# It is defined by the kaggle/python Docker image: https://github.com/kaggle/docker-python\n",
    "# For example, here's several helpful packages to load\n",
    "\n",
    "import numpy as np # linear algebra\n",
    "import pandas as pd # data processing, CSV file I/O (e.g. pd.read_csv)\n",
    "\n",
    "# Input data files are available in the read-only \"../input/\" directory\n",
    "# For example, running this (by clicking run or pressing Shift+Enter) will list all files under the input directory\n",
    "\n",
    "import os\n",
    "for dirname, _, filenames in os.walk('/kaggle/input'):\n",
    "    for filename in filenames:\n",
    "        print(os.path.join(dirname, filename))\n",
    "\n",
    "# You can write up to 20GB to the current directory (/kaggle/working/) that gets preserved as output when you create a version using \"Save & Run All\" \n",
    "# You can also write temporary files to /kaggle/temp/, but they won't be saved outside of the current session"
   ]
  },
  {
   "cell_type": "code",
   "execution_count": 2,
   "id": "d5961538",
   "metadata": {
    "execution": {
     "iopub.execute_input": "2021-11-17T23:48:42.692659Z",
     "iopub.status.busy": "2021-11-17T23:48:42.691922Z",
     "iopub.status.idle": "2021-11-17T23:48:43.675732Z",
     "shell.execute_reply": "2021-11-17T23:48:43.676210Z",
     "shell.execute_reply.started": "2021-11-15T07:49:46.376466Z"
    },
    "papermill": {
     "duration": 1.025023,
     "end_time": "2021-11-17T23:48:43.676361",
     "exception": false,
     "start_time": "2021-11-17T23:48:42.651338",
     "status": "completed"
    },
    "tags": []
   },
   "outputs": [],
   "source": [
    "import matplotlib.pyplot as plt\n",
    "import seaborn as sns\n",
    "import plotly.graph_objects as go\n",
    "import time\n",
    "import xgboost as xgb\n",
    "import gresearch_crypto\n",
    "import traceback\n",
    "\n",
    "from sklearn.model_selection import train_test_split, GridSearchCV, RandomizedSearchCV, RepeatedKFold\n",
    "from sklearn.metrics import mean_squared_error\n",
    "from matplotlib.colors import to_rgba"
   ]
  },
  {
   "cell_type": "markdown",
   "id": "b42b9404",
   "metadata": {
    "papermill": {
     "duration": 0.032655,
     "end_time": "2021-11-17T23:48:43.741746",
     "exception": false,
     "start_time": "2021-11-17T23:48:43.709091",
     "status": "completed"
    },
    "tags": []
   },
   "source": [
    "## <center>**EDA**</center>"
   ]
  },
  {
   "cell_type": "markdown",
   "id": "35281fd6",
   "metadata": {
    "papermill": {
     "duration": 0.031824,
     "end_time": "2021-11-17T23:48:43.810430",
     "exception": false,
     "start_time": "2021-11-17T23:48:43.778606",
     "status": "completed"
    },
    "tags": []
   },
   "source": [
    "### **train.csv - Column Description**\n",
    "- **timestamp**: All timestamps are returned as second Unix timestamps (the number of seconds elapsed since 1970-01-01 00:00:00.000 UTC). Timestamps in this dataset are multiple of 60, indicating minute-by-minute data.\n",
    "- **Asset_ID**: The asset ID corresponding to one of the crypto currencies (e.g. Asset_ID = 1 for Bitcoin). The mapping from Asset_ID to crypto asset is contained in asset_details.csv.\n",
    "- **Count**: Total number of trades in the time interval (last minute).\n",
    "- **Open**: Opening price of the time interval (in USD).\n",
    "- **High**: Highest price reached during time interval (in USD).\n",
    "- **Low**: Lowest price reached during time interval (in USD).\n",
    "- **Close**: Closing price of the time interval (in USD).\n",
    "- **Volume**: Quantity of asset bought or sold, displayed in base currency USD.\n",
    "- **VWAP**: The average price of the asset over the time interval, weighted by volume. VWAP is an aggregated form of trade data.\n",
    "- **Target**: Residual log-returns for the asset over a 15 minute horizon."
   ]
  },
  {
   "cell_type": "code",
   "execution_count": 3,
   "id": "01a0610c",
   "metadata": {
    "execution": {
     "iopub.execute_input": "2021-11-17T23:48:43.880473Z",
     "iopub.status.busy": "2021-11-17T23:48:43.878926Z",
     "iopub.status.idle": "2021-11-17T23:48:43.881104Z",
     "shell.execute_reply": "2021-11-17T23:48:43.881590Z",
     "shell.execute_reply.started": "2021-11-15T07:49:47.606468Z"
    },
    "papermill": {
     "duration": 0.039517,
     "end_time": "2021-11-17T23:48:43.881773",
     "exception": false,
     "start_time": "2021-11-17T23:48:43.842256",
     "status": "completed"
    },
    "tags": []
   },
   "outputs": [],
   "source": [
    "# Read Data\n",
    "\n",
    "def read_data(nrows=None):\n",
    "    data = pd.read_csv('../input/g-research-crypto-forecasting/train.csv', nrows=nrows)\n",
    "    asset_details = pd.read_csv('../input/g-research-crypto-forecasting/asset_details.csv')\n",
    "    return data, asset_details"
   ]
  },
  {
   "cell_type": "markdown",
   "id": "d2f5aedb",
   "metadata": {
    "papermill": {
     "duration": 0.03175,
     "end_time": "2021-11-17T23:48:43.945253",
     "exception": false,
     "start_time": "2021-11-17T23:48:43.913503",
     "status": "completed"
    },
    "tags": []
   },
   "source": [
    "### **Checking Nulls And Inf**"
   ]
  },
  {
   "cell_type": "code",
   "execution_count": 4,
   "id": "fe5a8d21",
   "metadata": {
    "execution": {
     "iopub.execute_input": "2021-11-17T23:48:44.013866Z",
     "iopub.status.busy": "2021-11-17T23:48:44.013292Z",
     "iopub.status.idle": "2021-11-17T23:48:44.017398Z",
     "shell.execute_reply": "2021-11-17T23:48:44.016816Z",
     "shell.execute_reply.started": "2021-11-15T07:49:47.612381Z"
    },
    "papermill": {
     "duration": 0.040741,
     "end_time": "2021-11-17T23:48:44.017509",
     "exception": false,
     "start_time": "2021-11-17T23:48:43.976768",
     "status": "completed"
    },
    "tags": []
   },
   "outputs": [],
   "source": [
    "def check_null_and_inf(data):\n",
    "    print(\"Numbers of Nulls in Data:\")\n",
    "    print(data.isnull().sum(), end='\\n\\n')\n",
    "    print(\"Inf in Data:\")\n",
    "    print(np.where(np.isinf(data)==True)[0])"
   ]
  },
  {
   "cell_type": "code",
   "execution_count": 5,
   "id": "1c3398ca",
   "metadata": {
    "execution": {
     "iopub.execute_input": "2021-11-17T23:48:44.130243Z",
     "iopub.status.busy": "2021-11-17T23:48:44.129384Z",
     "iopub.status.idle": "2021-11-17T23:48:44.131208Z",
     "shell.execute_reply": "2021-11-17T23:48:44.131648Z",
     "shell.execute_reply.started": "2021-11-15T07:49:47.630343Z"
    },
    "papermill": {
     "duration": 0.08272,
     "end_time": "2021-11-17T23:48:44.131797",
     "exception": false,
     "start_time": "2021-11-17T23:48:44.049077",
     "status": "completed"
    },
    "tags": []
   },
   "outputs": [],
   "source": [
    "# Drop Infinite and Nan\n",
    "def drop_inf_and_nan(data):\n",
    "    data.replace([np.inf, -np.inf], np.nan, inplace=True)\n",
    "    data.dropna(axis=0, inplace=True)\n",
    "    data.isnull().sum()\n",
    "    \n",
    "    return data"
   ]
  },
  {
   "cell_type": "markdown",
   "id": "ca135e55",
   "metadata": {
    "papermill": {
     "duration": 0.031497,
     "end_time": "2021-11-17T23:48:44.194801",
     "exception": false,
     "start_time": "2021-11-17T23:48:44.163304",
     "status": "completed"
    },
    "tags": []
   },
   "source": [
    "## <center>**DataSet**</center>"
   ]
  },
  {
   "cell_type": "markdown",
   "id": "e1b7b18e",
   "metadata": {
    "papermill": {
     "duration": 0.031122,
     "end_time": "2021-11-17T23:48:44.257138",
     "exception": false,
     "start_time": "2021-11-17T23:48:44.226016",
     "status": "completed"
    },
    "tags": []
   },
   "source": [
    "### Hyperparameters"
   ]
  },
  {
   "cell_type": "code",
   "execution_count": 6,
   "id": "a22c67e3",
   "metadata": {
    "execution": {
     "iopub.execute_input": "2021-11-17T23:48:44.325800Z",
     "iopub.status.busy": "2021-11-17T23:48:44.325215Z",
     "iopub.status.idle": "2021-11-17T23:48:44.328817Z",
     "shell.execute_reply": "2021-11-17T23:48:44.328364Z",
     "shell.execute_reply.started": "2021-11-15T07:49:47.640839Z"
    },
    "papermill": {
     "duration": 0.040276,
     "end_time": "2021-11-17T23:48:44.328930",
     "exception": false,
     "start_time": "2021-11-17T23:48:44.288654",
     "status": "completed"
    },
    "tags": []
   },
   "outputs": [],
   "source": [
    "FEATURES = ['Count', 'Close','High', 'Low', 'Open', 'VWAP', 'Volume']\n",
    "PARAMS = {\n",
    "    'colsample_bytree': [0.5, 0.7],\n",
    "    'n_estimators': range(520, 600, 40),\n",
    "    'learning_rate': [0.01, 0.03, 0.05],\n",
    "    'max_depth': range(11, 14, 1),\n",
    "}"
   ]
  },
  {
   "cell_type": "code",
   "execution_count": 7,
   "id": "8cdd15ee",
   "metadata": {
    "execution": {
     "iopub.execute_input": "2021-11-17T23:48:44.395836Z",
     "iopub.status.busy": "2021-11-17T23:48:44.395094Z",
     "iopub.status.idle": "2021-11-17T23:48:44.397623Z",
     "shell.execute_reply": "2021-11-17T23:48:44.397201Z",
     "shell.execute_reply.started": "2021-11-15T07:49:47.65242Z"
    },
    "papermill": {
     "duration": 0.037446,
     "end_time": "2021-11-17T23:48:44.397761",
     "exception": false,
     "start_time": "2021-11-17T23:48:44.360315",
     "status": "completed"
    },
    "tags": []
   },
   "outputs": [],
   "source": [
    "# def split_train_test(data, features):\n",
    "#     X = data[features]\n",
    "#     Y = data['Target']\n",
    "#     X_train, X_test, Y_train, Y_test = train_test_split(X, Y, test_size=0.2, shuffle=False)\n",
    "    \n",
    "#     return X_train, X_test, Y_train, Y_test"
   ]
  },
  {
   "cell_type": "code",
   "execution_count": 8,
   "id": "862266e9",
   "metadata": {
    "execution": {
     "iopub.execute_input": "2021-11-17T23:48:44.464505Z",
     "iopub.status.busy": "2021-11-17T23:48:44.463875Z",
     "iopub.status.idle": "2021-11-17T23:48:44.466116Z",
     "shell.execute_reply": "2021-11-17T23:48:44.466484Z",
     "shell.execute_reply.started": "2021-11-15T07:49:47.66707Z"
    },
    "papermill": {
     "duration": 0.037344,
     "end_time": "2021-11-17T23:48:44.466607",
     "exception": false,
     "start_time": "2021-11-17T23:48:44.429263",
     "status": "completed"
    },
    "tags": []
   },
   "outputs": [],
   "source": [
    "def crypto_df(asset_id, data):\n",
    "    df = data[data[\"Asset_ID\"] == asset_id].set_index(\"timestamp\")\n",
    "    return df"
   ]
  },
  {
   "cell_type": "code",
   "execution_count": 9,
   "id": "9ef57418",
   "metadata": {
    "execution": {
     "iopub.execute_input": "2021-11-17T23:48:44.534758Z",
     "iopub.status.busy": "2021-11-17T23:48:44.534237Z",
     "iopub.status.idle": "2021-11-17T23:48:44.537234Z",
     "shell.execute_reply": "2021-11-17T23:48:44.537608Z",
     "shell.execute_reply.started": "2021-11-15T07:49:47.677984Z"
    },
    "papermill": {
     "duration": 0.039714,
     "end_time": "2021-11-17T23:48:44.537761",
     "exception": false,
     "start_time": "2021-11-17T23:48:44.498047",
     "status": "completed"
    },
    "tags": []
   },
   "outputs": [],
   "source": [
    "# Two new features from the competition tutorial\n",
    "def upper_shadow(df):\n",
    "    return df['High'] - np.maximum(df['Close'], df['Open'])\n",
    "\n",
    "def lower_shadow(df):\n",
    "    return np.minimum(df['Close'], df['Open']) - df['Low']"
   ]
  },
  {
   "cell_type": "code",
   "execution_count": 10,
   "id": "91eb412c",
   "metadata": {
    "execution": {
     "iopub.execute_input": "2021-11-17T23:48:44.653474Z",
     "iopub.status.busy": "2021-11-17T23:48:44.652513Z",
     "iopub.status.idle": "2021-11-17T23:48:44.654214Z",
     "shell.execute_reply": "2021-11-17T23:48:44.656446Z",
     "shell.execute_reply.started": "2021-11-15T07:49:47.690786Z"
    },
    "papermill": {
     "duration": 0.073885,
     "end_time": "2021-11-17T23:48:44.656701",
     "exception": false,
     "start_time": "2021-11-17T23:48:44.582816",
     "status": "completed"
    },
    "tags": []
   },
   "outputs": [],
   "source": [
    "def get_features(df):\n",
    "    df_feat = df[FEATURES].copy()   \n",
    "    df_feat['Upper_Shadow'] = upper_shadow(df_feat)\n",
    "    df_feat['Lower_Shadow'] = lower_shadow(df_feat)\n",
    "\n",
    "    return df_feat"
   ]
  },
  {
   "cell_type": "markdown",
   "id": "dd25572d",
   "metadata": {
    "papermill": {
     "duration": 0.050598,
     "end_time": "2021-11-17T23:48:44.763631",
     "exception": false,
     "start_time": "2021-11-17T23:48:44.713033",
     "status": "completed"
    },
    "tags": []
   },
   "source": [
    "## <center>**Visualization**</center>"
   ]
  },
  {
   "cell_type": "markdown",
   "id": "ac05bb87",
   "metadata": {
    "papermill": {
     "duration": 0.050482,
     "end_time": "2021-11-17T23:48:44.864856",
     "exception": false,
     "start_time": "2021-11-17T23:48:44.814374",
     "status": "completed"
    },
    "tags": []
   },
   "source": [
    "### **DATA DISTRIBUTION**"
   ]
  },
  {
   "cell_type": "markdown",
   "id": "df679192",
   "metadata": {
    "papermill": {
     "duration": 0.054907,
     "end_time": "2021-11-17T23:48:44.971302",
     "exception": false,
     "start_time": "2021-11-17T23:48:44.916395",
     "status": "completed"
    },
    "tags": []
   },
   "source": [
    "Training Data Distribution among differnet Assets (Crypto Currencies)"
   ]
  },
  {
   "cell_type": "code",
   "execution_count": 11,
   "id": "0f7a11ec",
   "metadata": {
    "execution": {
     "iopub.execute_input": "2021-11-17T23:48:45.089415Z",
     "iopub.status.busy": "2021-11-17T23:48:45.088602Z",
     "iopub.status.idle": "2021-11-17T23:48:45.091464Z",
     "shell.execute_reply": "2021-11-17T23:48:45.092190Z",
     "shell.execute_reply.started": "2021-11-15T07:49:47.69893Z"
    },
    "papermill": {
     "duration": 0.066497,
     "end_time": "2021-11-17T23:48:45.092372",
     "exception": false,
     "start_time": "2021-11-17T23:48:45.025875",
     "status": "completed"
    },
    "tags": []
   },
   "outputs": [],
   "source": [
    "def plot_dis(data):\n",
    "    asset_count = []\n",
    "    for i in range(14):\n",
    "        count = (data[\"Asset_ID\"] == i).sum()\n",
    "        asset_count.append(count)\n",
    "\n",
    "    fig = sns.countplot(x=\"Asset_ID\", data=data)\n",
    "    fig.ticklabel_format(style='sci', axis='y')\n",
    "    # fig.set_xticklabels(asset_details.sort_values(\"Asset_ID\")[\"Asset_Name\"].tolist(), rotation=-30, horizontalalignment='left')\n",
    "    fig.set(xlabel='Assets', ylabel='Number of Rows')"
   ]
  },
  {
   "cell_type": "markdown",
   "id": "f22c5b6e",
   "metadata": {
    "papermill": {
     "duration": 0.036164,
     "end_time": "2021-11-17T23:48:45.179376",
     "exception": false,
     "start_time": "2021-11-17T23:48:45.143212",
     "status": "completed"
    },
    "tags": []
   },
   "source": [
    "### **CANDELSTICK CHARTS**"
   ]
  },
  {
   "cell_type": "code",
   "execution_count": 12,
   "id": "6b1175a1",
   "metadata": {
    "execution": {
     "iopub.execute_input": "2021-11-17T23:48:45.340531Z",
     "iopub.status.busy": "2021-11-17T23:48:45.339628Z",
     "iopub.status.idle": "2021-11-17T23:48:45.341386Z",
     "shell.execute_reply": "2021-11-17T23:48:45.341826Z",
     "shell.execute_reply.started": "2021-11-15T07:49:47.712455Z"
    },
    "papermill": {
     "duration": 0.131068,
     "end_time": "2021-11-17T23:48:45.341980",
     "exception": false,
     "start_time": "2021-11-17T23:48:45.210912",
     "status": "completed"
    },
    "tags": []
   },
   "outputs": [],
   "source": [
    "def candelstick_chart(data,title):\n",
    "    candlestick = go.Figure(data = [go.Candlestick(x =data.index, \n",
    "                                               open = data[('Open')], \n",
    "                                               high = data[('High')], \n",
    "                                               low = data[('Low')], \n",
    "                                               close = data[('Close')])])\n",
    "    candlestick.update_xaxes(title_text = 'Minutes',\n",
    "                             rangeslider_visible = True)\n",
    "\n",
    "    candlestick.update_layout(\n",
    "    title = {\n",
    "        'text': '{:} Candelstick Chart'.format(title),\n",
    "        'y':0.90,\n",
    "        'x':0.5,\n",
    "        'xanchor': 'center',\n",
    "        'yanchor': 'top'})\n",
    "\n",
    "    candlestick.update_yaxes(title_text = 'Price in USD', ticksuffix = '$')\n",
    "\n",
    "    return candlestick"
   ]
  },
  {
   "cell_type": "markdown",
   "id": "21e8b977",
   "metadata": {
    "papermill": {
     "duration": 0.032627,
     "end_time": "2021-11-17T23:48:45.407496",
     "exception": false,
     "start_time": "2021-11-17T23:48:45.374869",
     "status": "completed"
    },
    "tags": []
   },
   "source": [
    "### **AREA PLOT**"
   ]
  },
  {
   "cell_type": "code",
   "execution_count": 13,
   "id": "80c75def",
   "metadata": {
    "execution": {
     "iopub.execute_input": "2021-11-17T23:48:45.475493Z",
     "iopub.status.busy": "2021-11-17T23:48:45.474916Z",
     "iopub.status.idle": "2021-11-17T23:48:45.477249Z",
     "shell.execute_reply": "2021-11-17T23:48:45.477624Z",
     "shell.execute_reply.started": "2021-11-15T07:49:47.723461Z"
    },
    "papermill": {
     "duration": 0.038638,
     "end_time": "2021-11-17T23:48:45.477781",
     "exception": false,
     "start_time": "2021-11-17T23:48:45.439143",
     "status": "completed"
    },
    "tags": []
   },
   "outputs": [],
   "source": [
    "# Volumn trade\n",
    "\n",
    "def vol_traded(data):\n",
    "    fig = plt.stackplot(data.index, data.Volume, color='thistle')\n",
    "    return fig"
   ]
  },
  {
   "cell_type": "markdown",
   "id": "39c51989",
   "metadata": {
    "papermill": {
     "duration": 0.03184,
     "end_time": "2021-11-17T23:48:45.541037",
     "exception": false,
     "start_time": "2021-11-17T23:48:45.509197",
     "status": "completed"
    },
    "tags": []
   },
   "source": [
    "## <center>**XG-Boosting**</center>"
   ]
  },
  {
   "cell_type": "code",
   "execution_count": 14,
   "id": "ef1629bd",
   "metadata": {
    "execution": {
     "iopub.execute_input": "2021-11-17T23:48:45.611923Z",
     "iopub.status.busy": "2021-11-17T23:48:45.611010Z",
     "iopub.status.idle": "2021-11-17T23:48:45.613401Z",
     "shell.execute_reply": "2021-11-17T23:48:45.612988Z",
     "shell.execute_reply.started": "2021-11-15T07:49:47.736445Z"
    },
    "papermill": {
     "duration": 0.040417,
     "end_time": "2021-11-17T23:48:45.613510",
     "exception": false,
     "start_time": "2021-11-17T23:48:45.573093",
     "status": "completed"
    },
    "tags": []
   },
   "outputs": [],
   "source": [
    "def xgb_cv(X, Y, params):\n",
    "    data_dmatrix = xgb.DMatrix(data=X, label=Y)\n",
    "\n",
    "    start_time = time.time()\n",
    "    cv_results = xgb.cv(dtrain=data_dmatrix, params=params, nfold=3,\n",
    "                        num_boost_round=50, early_stopping_rounds=10,metrics=\"rmse\", as_pandas=True, seed=123)\n",
    "    end_time = time.time()\n",
    "    run_time = end_time - start_time\n",
    "    \n",
    "    return cv_results, run_time"
   ]
  },
  {
   "cell_type": "markdown",
   "id": "78f21388",
   "metadata": {
    "papermill": {
     "duration": 0.031579,
     "end_time": "2021-11-17T23:48:45.677305",
     "exception": false,
     "start_time": "2021-11-17T23:48:45.645726",
     "status": "completed"
    },
    "tags": []
   },
   "source": [
    "## <center>**Pipeline**</center>"
   ]
  },
  {
   "cell_type": "markdown",
   "id": "b3b7db57",
   "metadata": {
    "papermill": {
     "duration": 0.031678,
     "end_time": "2021-11-17T23:48:45.740668",
     "exception": false,
     "start_time": "2021-11-17T23:48:45.708990",
     "status": "completed"
    },
    "tags": []
   },
   "source": [
    "### Data (Training, Testing)"
   ]
  },
  {
   "cell_type": "code",
   "execution_count": 15,
   "id": "1a18c907",
   "metadata": {
    "execution": {
     "iopub.execute_input": "2021-11-17T23:48:45.808590Z",
     "iopub.status.busy": "2021-11-17T23:48:45.808071Z",
     "iopub.status.idle": "2021-11-17T23:49:40.989534Z",
     "shell.execute_reply": "2021-11-17T23:49:40.990204Z",
     "shell.execute_reply.started": "2021-11-15T07:49:47.749258Z"
    },
    "papermill": {
     "duration": 55.218231,
     "end_time": "2021-11-17T23:49:40.990462",
     "exception": false,
     "start_time": "2021-11-17T23:48:45.772231",
     "status": "completed"
    },
    "tags": []
   },
   "outputs": [],
   "source": [
    "data, asset_details = read_data()"
   ]
  },
  {
   "cell_type": "code",
   "execution_count": 16,
   "id": "9186ea8a",
   "metadata": {
    "execution": {
     "iopub.execute_input": "2021-11-17T23:49:41.072649Z",
     "iopub.status.busy": "2021-11-17T23:49:41.071921Z",
     "iopub.status.idle": "2021-11-17T23:49:41.090567Z",
     "shell.execute_reply": "2021-11-17T23:49:41.091142Z",
     "shell.execute_reply.started": "2021-11-15T07:49:47.785469Z"
    },
    "papermill": {
     "duration": 0.063766,
     "end_time": "2021-11-17T23:49:41.091287",
     "exception": false,
     "start_time": "2021-11-17T23:49:41.027521",
     "status": "completed"
    },
    "tags": []
   },
   "outputs": [
    {
     "data": {
      "text/html": [
       "<div>\n",
       "<style scoped>\n",
       "    .dataframe tbody tr th:only-of-type {\n",
       "        vertical-align: middle;\n",
       "    }\n",
       "\n",
       "    .dataframe tbody tr th {\n",
       "        vertical-align: top;\n",
       "    }\n",
       "\n",
       "    .dataframe thead th {\n",
       "        text-align: right;\n",
       "    }\n",
       "</style>\n",
       "<table border=\"1\" class=\"dataframe\">\n",
       "  <thead>\n",
       "    <tr style=\"text-align: right;\">\n",
       "      <th></th>\n",
       "      <th>timestamp</th>\n",
       "      <th>Asset_ID</th>\n",
       "      <th>Count</th>\n",
       "      <th>Open</th>\n",
       "      <th>High</th>\n",
       "      <th>Low</th>\n",
       "      <th>Close</th>\n",
       "      <th>Volume</th>\n",
       "      <th>VWAP</th>\n",
       "      <th>Target</th>\n",
       "    </tr>\n",
       "  </thead>\n",
       "  <tbody>\n",
       "    <tr>\n",
       "      <th>0</th>\n",
       "      <td>1514764860</td>\n",
       "      <td>2</td>\n",
       "      <td>40.0</td>\n",
       "      <td>2376.5800</td>\n",
       "      <td>2399.5000</td>\n",
       "      <td>2357.1400</td>\n",
       "      <td>2374.5900</td>\n",
       "      <td>19.233005</td>\n",
       "      <td>2373.116392</td>\n",
       "      <td>-0.004218</td>\n",
       "    </tr>\n",
       "    <tr>\n",
       "      <th>1</th>\n",
       "      <td>1514764860</td>\n",
       "      <td>0</td>\n",
       "      <td>5.0</td>\n",
       "      <td>8.5300</td>\n",
       "      <td>8.5300</td>\n",
       "      <td>8.5300</td>\n",
       "      <td>8.5300</td>\n",
       "      <td>78.380000</td>\n",
       "      <td>8.530000</td>\n",
       "      <td>-0.014399</td>\n",
       "    </tr>\n",
       "    <tr>\n",
       "      <th>2</th>\n",
       "      <td>1514764860</td>\n",
       "      <td>1</td>\n",
       "      <td>229.0</td>\n",
       "      <td>13835.1940</td>\n",
       "      <td>14013.8000</td>\n",
       "      <td>13666.1100</td>\n",
       "      <td>13850.1760</td>\n",
       "      <td>31.550062</td>\n",
       "      <td>13827.062093</td>\n",
       "      <td>-0.014643</td>\n",
       "    </tr>\n",
       "    <tr>\n",
       "      <th>3</th>\n",
       "      <td>1514764860</td>\n",
       "      <td>5</td>\n",
       "      <td>32.0</td>\n",
       "      <td>7.6596</td>\n",
       "      <td>7.6596</td>\n",
       "      <td>7.6567</td>\n",
       "      <td>7.6576</td>\n",
       "      <td>6626.713370</td>\n",
       "      <td>7.657713</td>\n",
       "      <td>-0.013922</td>\n",
       "    </tr>\n",
       "    <tr>\n",
       "      <th>4</th>\n",
       "      <td>1514764860</td>\n",
       "      <td>7</td>\n",
       "      <td>5.0</td>\n",
       "      <td>25.9200</td>\n",
       "      <td>25.9200</td>\n",
       "      <td>25.8740</td>\n",
       "      <td>25.8770</td>\n",
       "      <td>121.087310</td>\n",
       "      <td>25.891363</td>\n",
       "      <td>-0.008264</td>\n",
       "    </tr>\n",
       "  </tbody>\n",
       "</table>\n",
       "</div>"
      ],
      "text/plain": [
       "    timestamp  Asset_ID  Count        Open        High         Low  \\\n",
       "0  1514764860         2   40.0   2376.5800   2399.5000   2357.1400   \n",
       "1  1514764860         0    5.0      8.5300      8.5300      8.5300   \n",
       "2  1514764860         1  229.0  13835.1940  14013.8000  13666.1100   \n",
       "3  1514764860         5   32.0      7.6596      7.6596      7.6567   \n",
       "4  1514764860         7    5.0     25.9200     25.9200     25.8740   \n",
       "\n",
       "        Close       Volume          VWAP    Target  \n",
       "0   2374.5900    19.233005   2373.116392 -0.004218  \n",
       "1      8.5300    78.380000      8.530000 -0.014399  \n",
       "2  13850.1760    31.550062  13827.062093 -0.014643  \n",
       "3      7.6576  6626.713370      7.657713 -0.013922  \n",
       "4     25.8770   121.087310     25.891363 -0.008264  "
      ]
     },
     "execution_count": 16,
     "metadata": {},
     "output_type": "execute_result"
    }
   ],
   "source": [
    "data.head()"
   ]
  },
  {
   "cell_type": "code",
   "execution_count": 17,
   "id": "3250ed3b",
   "metadata": {
    "execution": {
     "iopub.execute_input": "2021-11-17T23:49:41.166475Z",
     "iopub.status.busy": "2021-11-17T23:49:41.165709Z",
     "iopub.status.idle": "2021-11-17T23:49:41.168712Z",
     "shell.execute_reply": "2021-11-17T23:49:41.169258Z",
     "shell.execute_reply.started": "2021-11-15T07:49:47.811468Z"
    },
    "papermill": {
     "duration": 0.042665,
     "end_time": "2021-11-17T23:49:41.169407",
     "exception": false,
     "start_time": "2021-11-17T23:49:41.126742",
     "status": "completed"
    },
    "tags": []
   },
   "outputs": [
    {
     "data": {
      "text/plain": [
       "(24236806, 10)"
      ]
     },
     "execution_count": 17,
     "metadata": {},
     "output_type": "execute_result"
    }
   ],
   "source": [
    "data.shape"
   ]
  },
  {
   "cell_type": "code",
   "execution_count": 18,
   "id": "a3bb0f68",
   "metadata": {
    "execution": {
     "iopub.execute_input": "2021-11-17T23:49:41.250149Z",
     "iopub.status.busy": "2021-11-17T23:49:41.249264Z",
     "iopub.status.idle": "2021-11-17T23:49:41.252522Z",
     "shell.execute_reply": "2021-11-17T23:49:41.252976Z",
     "shell.execute_reply.started": "2021-11-15T07:49:47.819742Z"
    },
    "papermill": {
     "duration": 0.047778,
     "end_time": "2021-11-17T23:49:41.253102",
     "exception": false,
     "start_time": "2021-11-17T23:49:41.205324",
     "status": "completed"
    },
    "tags": []
   },
   "outputs": [
    {
     "data": {
      "text/html": [
       "<div>\n",
       "<style scoped>\n",
       "    .dataframe tbody tr th:only-of-type {\n",
       "        vertical-align: middle;\n",
       "    }\n",
       "\n",
       "    .dataframe tbody tr th {\n",
       "        vertical-align: top;\n",
       "    }\n",
       "\n",
       "    .dataframe thead th {\n",
       "        text-align: right;\n",
       "    }\n",
       "</style>\n",
       "<table border=\"1\" class=\"dataframe\">\n",
       "  <thead>\n",
       "    <tr style=\"text-align: right;\">\n",
       "      <th></th>\n",
       "      <th>Asset_ID</th>\n",
       "      <th>Weight</th>\n",
       "      <th>Asset_Name</th>\n",
       "    </tr>\n",
       "  </thead>\n",
       "  <tbody>\n",
       "    <tr>\n",
       "      <th>0</th>\n",
       "      <td>2</td>\n",
       "      <td>2.397895</td>\n",
       "      <td>Bitcoin Cash</td>\n",
       "    </tr>\n",
       "    <tr>\n",
       "      <th>1</th>\n",
       "      <td>0</td>\n",
       "      <td>4.304065</td>\n",
       "      <td>Binance Coin</td>\n",
       "    </tr>\n",
       "    <tr>\n",
       "      <th>2</th>\n",
       "      <td>1</td>\n",
       "      <td>6.779922</td>\n",
       "      <td>Bitcoin</td>\n",
       "    </tr>\n",
       "    <tr>\n",
       "      <th>3</th>\n",
       "      <td>5</td>\n",
       "      <td>1.386294</td>\n",
       "      <td>EOS.IO</td>\n",
       "    </tr>\n",
       "    <tr>\n",
       "      <th>4</th>\n",
       "      <td>7</td>\n",
       "      <td>2.079442</td>\n",
       "      <td>Ethereum Classic</td>\n",
       "    </tr>\n",
       "    <tr>\n",
       "      <th>5</th>\n",
       "      <td>6</td>\n",
       "      <td>5.894403</td>\n",
       "      <td>Ethereum</td>\n",
       "    </tr>\n",
       "    <tr>\n",
       "      <th>6</th>\n",
       "      <td>9</td>\n",
       "      <td>2.397895</td>\n",
       "      <td>Litecoin</td>\n",
       "    </tr>\n",
       "    <tr>\n",
       "      <th>7</th>\n",
       "      <td>11</td>\n",
       "      <td>1.609438</td>\n",
       "      <td>Monero</td>\n",
       "    </tr>\n",
       "    <tr>\n",
       "      <th>8</th>\n",
       "      <td>13</td>\n",
       "      <td>1.791759</td>\n",
       "      <td>TRON</td>\n",
       "    </tr>\n",
       "    <tr>\n",
       "      <th>9</th>\n",
       "      <td>12</td>\n",
       "      <td>2.079442</td>\n",
       "      <td>Stellar</td>\n",
       "    </tr>\n",
       "    <tr>\n",
       "      <th>10</th>\n",
       "      <td>3</td>\n",
       "      <td>4.406719</td>\n",
       "      <td>Cardano</td>\n",
       "    </tr>\n",
       "    <tr>\n",
       "      <th>11</th>\n",
       "      <td>8</td>\n",
       "      <td>1.098612</td>\n",
       "      <td>IOTA</td>\n",
       "    </tr>\n",
       "    <tr>\n",
       "      <th>12</th>\n",
       "      <td>10</td>\n",
       "      <td>1.098612</td>\n",
       "      <td>Maker</td>\n",
       "    </tr>\n",
       "    <tr>\n",
       "      <th>13</th>\n",
       "      <td>4</td>\n",
       "      <td>3.555348</td>\n",
       "      <td>Dogecoin</td>\n",
       "    </tr>\n",
       "  </tbody>\n",
       "</table>\n",
       "</div>"
      ],
      "text/plain": [
       "    Asset_ID    Weight        Asset_Name\n",
       "0          2  2.397895      Bitcoin Cash\n",
       "1          0  4.304065      Binance Coin\n",
       "2          1  6.779922           Bitcoin\n",
       "3          5  1.386294            EOS.IO\n",
       "4          7  2.079442  Ethereum Classic\n",
       "5          6  5.894403          Ethereum\n",
       "6          9  2.397895          Litecoin\n",
       "7         11  1.609438            Monero\n",
       "8         13  1.791759              TRON\n",
       "9         12  2.079442           Stellar\n",
       "10         3  4.406719           Cardano\n",
       "11         8  1.098612              IOTA\n",
       "12        10  1.098612             Maker\n",
       "13         4  3.555348          Dogecoin"
      ]
     },
     "execution_count": 18,
     "metadata": {},
     "output_type": "execute_result"
    }
   ],
   "source": [
    "asset_details"
   ]
  },
  {
   "cell_type": "code",
   "execution_count": 19,
   "id": "0395ab9b",
   "metadata": {
    "execution": {
     "iopub.execute_input": "2021-11-17T23:49:41.332631Z",
     "iopub.status.busy": "2021-11-17T23:49:41.331842Z",
     "iopub.status.idle": "2021-11-17T23:49:41.334794Z",
     "shell.execute_reply": "2021-11-17T23:49:41.334270Z",
     "shell.execute_reply.started": "2021-11-15T07:49:47.833994Z"
    },
    "papermill": {
     "duration": 0.044419,
     "end_time": "2021-11-17T23:49:41.334941",
     "exception": false,
     "start_time": "2021-11-17T23:49:41.290522",
     "status": "completed"
    },
    "tags": []
   },
   "outputs": [],
   "source": [
    "# check_null_and_inf(data)"
   ]
  },
  {
   "cell_type": "code",
   "execution_count": 20,
   "id": "4805442e",
   "metadata": {
    "execution": {
     "iopub.execute_input": "2021-11-17T23:49:41.415227Z",
     "iopub.status.busy": "2021-11-17T23:49:41.414168Z",
     "iopub.status.idle": "2021-11-17T23:49:44.783475Z",
     "shell.execute_reply": "2021-11-17T23:49:44.782477Z",
     "shell.execute_reply.started": "2021-11-15T07:49:47.838151Z"
    },
    "papermill": {
     "duration": 3.411358,
     "end_time": "2021-11-17T23:49:44.783615",
     "exception": false,
     "start_time": "2021-11-17T23:49:41.372257",
     "status": "completed"
    },
    "tags": []
   },
   "outputs": [],
   "source": [
    "data = drop_inf_and_nan(data)"
   ]
  },
  {
   "cell_type": "code",
   "execution_count": 21,
   "id": "10189d54",
   "metadata": {
    "execution": {
     "iopub.execute_input": "2021-11-17T23:49:44.855291Z",
     "iopub.status.busy": "2021-11-17T23:49:44.854549Z",
     "iopub.status.idle": "2021-11-17T23:49:44.857286Z",
     "shell.execute_reply": "2021-11-17T23:49:44.856880Z",
     "shell.execute_reply.started": "2021-11-15T07:49:47.857083Z"
    },
    "papermill": {
     "duration": 0.039859,
     "end_time": "2021-11-17T23:49:44.857397",
     "exception": false,
     "start_time": "2021-11-17T23:49:44.817538",
     "status": "completed"
    },
    "tags": []
   },
   "outputs": [],
   "source": [
    "# check_null_and_inf(data)"
   ]
  },
  {
   "cell_type": "code",
   "execution_count": 22,
   "id": "104e8dc8",
   "metadata": {
    "execution": {
     "iopub.execute_input": "2021-11-17T23:49:44.932279Z",
     "iopub.status.busy": "2021-11-17T23:49:44.931509Z",
     "iopub.status.idle": "2021-11-17T23:49:45.133446Z",
     "shell.execute_reply": "2021-11-17T23:49:45.134117Z",
     "shell.execute_reply.started": "2021-11-15T07:49:47.866091Z"
    },
    "papermill": {
     "duration": 0.243435,
     "end_time": "2021-11-17T23:49:45.134346",
     "exception": false,
     "start_time": "2021-11-17T23:49:44.890911",
     "status": "completed"
    },
    "tags": []
   },
   "outputs": [
    {
     "data": {
      "text/plain": [
       "array([ 2,  0,  1,  5,  7,  6,  9, 11, 13, 12,  3,  8, 10,  4])"
      ]
     },
     "execution_count": 22,
     "metadata": {},
     "output_type": "execute_result"
    }
   ],
   "source": [
    "data['Asset_ID'].unique()"
   ]
  },
  {
   "cell_type": "markdown",
   "id": "59d0a2f5",
   "metadata": {
    "papermill": {
     "duration": 0.051432,
     "end_time": "2021-11-17T23:49:45.238748",
     "exception": false,
     "start_time": "2021-11-17T23:49:45.187316",
     "status": "completed"
    },
    "tags": []
   },
   "source": [
    "### Visualization"
   ]
  },
  {
   "cell_type": "code",
   "execution_count": 23,
   "id": "a5ea52ad",
   "metadata": {
    "execution": {
     "iopub.execute_input": "2021-11-17T23:49:45.349672Z",
     "iopub.status.busy": "2021-11-17T23:49:45.348828Z",
     "iopub.status.idle": "2021-11-17T23:49:45.351144Z",
     "shell.execute_reply": "2021-11-17T23:49:45.350424Z",
     "shell.execute_reply.started": "2021-11-15T07:49:47.884231Z"
    },
    "papermill": {
     "duration": 0.059562,
     "end_time": "2021-11-17T23:49:45.351314",
     "exception": false,
     "start_time": "2021-11-17T23:49:45.291752",
     "status": "completed"
    },
    "tags": []
   },
   "outputs": [],
   "source": [
    "# Plot data adistribution\n",
    "# plot_dis(data)"
   ]
  },
  {
   "cell_type": "code",
   "execution_count": 24,
   "id": "1b823020",
   "metadata": {
    "execution": {
     "iopub.execute_input": "2021-11-17T23:49:45.458730Z",
     "iopub.status.busy": "2021-11-17T23:49:45.457639Z",
     "iopub.status.idle": "2021-11-17T23:49:45.460189Z",
     "shell.execute_reply": "2021-11-17T23:49:45.459491Z",
     "shell.execute_reply.started": "2021-11-15T07:49:47.89563Z"
    },
    "papermill": {
     "duration": 0.058117,
     "end_time": "2021-11-17T23:49:45.460352",
     "exception": false,
     "start_time": "2021-11-17T23:49:45.402235",
     "status": "completed"
    },
    "tags": []
   },
   "outputs": [],
   "source": [
    "# btc = crypto_df(1, data)\n",
    "# eth = crypto_df (6, data)"
   ]
  },
  {
   "cell_type": "code",
   "execution_count": 25,
   "id": "319ec95f",
   "metadata": {
    "execution": {
     "iopub.execute_input": "2021-11-17T23:49:45.583080Z",
     "iopub.status.busy": "2021-11-17T23:49:45.581677Z",
     "iopub.status.idle": "2021-11-17T23:49:45.583806Z",
     "shell.execute_reply": "2021-11-17T23:49:45.582373Z",
     "shell.execute_reply.started": "2021-11-15T07:49:47.907219Z"
    },
    "papermill": {
     "duration": 0.065015,
     "end_time": "2021-11-17T23:49:45.583956",
     "exception": false,
     "start_time": "2021-11-17T23:49:45.518941",
     "status": "completed"
    },
    "tags": []
   },
   "outputs": [],
   "source": [
    "# Plot candle stick\n",
    "\n",
    "# btc_plot = candelstick_chart(btc[-100:], \"Bitcoin\")\n",
    "# btc_plot.show()"
   ]
  },
  {
   "cell_type": "code",
   "execution_count": 26,
   "id": "c210f768",
   "metadata": {
    "execution": {
     "iopub.execute_input": "2021-11-17T23:49:45.696662Z",
     "iopub.status.busy": "2021-11-17T23:49:45.695913Z",
     "iopub.status.idle": "2021-11-17T23:49:45.698956Z",
     "shell.execute_reply": "2021-11-17T23:49:45.699514Z",
     "shell.execute_reply.started": "2021-11-15T07:49:47.91939Z"
    },
    "papermill": {
     "duration": 0.061609,
     "end_time": "2021-11-17T23:49:45.699712",
     "exception": false,
     "start_time": "2021-11-17T23:49:45.638103",
     "status": "completed"
    },
    "tags": []
   },
   "outputs": [],
   "source": [
    "# Plot volumn\n",
    "# vol_traded(btc[-50:])"
   ]
  },
  {
   "cell_type": "markdown",
   "id": "d98b58ca",
   "metadata": {
    "papermill": {
     "duration": 0.053559,
     "end_time": "2021-11-17T23:49:45.807108",
     "exception": false,
     "start_time": "2021-11-17T23:49:45.753549",
     "status": "completed"
    },
    "tags": []
   },
   "source": [
    "### Model Training"
   ]
  },
  {
   "cell_type": "code",
   "execution_count": 27,
   "id": "2047f994",
   "metadata": {
    "execution": {
     "iopub.execute_input": "2021-11-17T23:49:45.920826Z",
     "iopub.status.busy": "2021-11-17T23:49:45.919968Z",
     "iopub.status.idle": "2021-11-17T23:49:45.922179Z",
     "shell.execute_reply": "2021-11-17T23:49:45.921524Z",
     "shell.execute_reply.started": "2021-11-15T07:49:47.931971Z"
    },
    "papermill": {
     "duration": 0.062136,
     "end_time": "2021-11-17T23:49:45.922328",
     "exception": false,
     "start_time": "2021-11-17T23:49:45.860192",
     "status": "completed"
    },
    "tags": []
   },
   "outputs": [],
   "source": [
    "# def get_train_test_for_asset(data, asset_id):\n",
    "#     data = data[data[\"Asset_ID\"] == asset_id]\n",
    "#     X_train, X_test, Y_train, Y_test = split_train_test(data, FEATURES)\n",
    "#     return X_train, X_test, Y_train, Y_test"
   ]
  },
  {
   "cell_type": "code",
   "execution_count": 28,
   "id": "0e11e275",
   "metadata": {
    "execution": {
     "iopub.execute_input": "2021-11-17T23:49:46.040655Z",
     "iopub.status.busy": "2021-11-17T23:49:46.039569Z",
     "iopub.status.idle": "2021-11-17T23:49:46.042080Z",
     "shell.execute_reply": "2021-11-17T23:49:46.041380Z",
     "shell.execute_reply.started": "2021-11-15T07:49:47.942675Z"
    },
    "papermill": {
     "duration": 0.066186,
     "end_time": "2021-11-17T23:49:46.042237",
     "exception": false,
     "start_time": "2021-11-17T23:49:45.976051",
     "status": "completed"
    },
    "tags": []
   },
   "outputs": [],
   "source": [
    "def get_xgb_model(X_train, Y_train):\n",
    "    estimator = xgb.XGBRegressor(\n",
    "        n_estimators=500,\n",
    "        max_depth=11,\n",
    "        learning_rate=0.05,\n",
    "        subsample=0.9,\n",
    "        colsample_bytree=0.7,\n",
    "        missing=-999,\n",
    "        random_state=2020,\n",
    "        tree_method='gpu_hist'\n",
    "    )\n",
    "\n",
    "    \n",
    "    start_time = time.time()\n",
    "    estimator.fit(X_train, Y_train)\n",
    "    end_time = time.time()\n",
    "    \n",
    "    time_elapsed = round(end_time - start_time)\n",
    "    \n",
    "    return estimator, time_elapsed"
   ]
  },
  {
   "cell_type": "code",
   "execution_count": 29,
   "id": "2d6a623e",
   "metadata": {
    "execution": {
     "iopub.execute_input": "2021-11-17T23:49:46.140218Z",
     "iopub.status.busy": "2021-11-17T23:49:46.138674Z",
     "iopub.status.idle": "2021-11-17T23:49:46.140864Z",
     "shell.execute_reply": "2021-11-17T23:49:46.141270Z",
     "shell.execute_reply.started": "2021-11-15T07:49:47.952492Z"
    },
    "papermill": {
     "duration": 0.043866,
     "end_time": "2021-11-17T23:49:46.141405",
     "exception": false,
     "start_time": "2021-11-17T23:49:46.097539",
     "status": "completed"
    },
    "tags": []
   },
   "outputs": [],
   "source": [
    "def get_xgb_model_cv(X_train, Y_train):\n",
    "    estimator = xgb.XGBRegressor(\n",
    "        objective = \"reg:squarederror\",\n",
    "        nthread = 4,\n",
    "    )\n",
    "    estimator.fit(X_train, Y_train)\n",
    "    \n",
    "    cv = RepeatedKFold(n_splits=10, n_repeats=1, random_state=1)\n",
    "    \n",
    "    random_search = RandomizedSearchCV(\n",
    "        estimator = estimator,\n",
    "        param_distributions = PARAMS,\n",
    "        n_jobs = -1,\n",
    "        cv = cv,\n",
    "        random_state=1\n",
    "    )\n",
    "    \n",
    "    start_time = time.time()\n",
    "    random_search.fit(X_train, Y_train)\n",
    "    end_time = time.time()\n",
    "    \n",
    "    time_elapsed = round(end_time - start_time)\n",
    "    best_estimator = random_search.best_estimator_.get_params()\n",
    "\n",
    "    xgb_best = xgb.XGBRegressor(\n",
    "        objective = \"reg:squarederror\",\n",
    "        nthread = 4,\n",
    "        colsample_bytree = best_estimator['colsample_bytree'],\n",
    "        n_estimators = best_estimator['n_estimators'],\n",
    "        learning_rate = best_estimator['learning_rate'],\n",
    "        max_depth = best_estimator['max_depth'],\n",
    "        subsample = 0.9,\n",
    "        random_state = 1,\n",
    "        missing = -999,\n",
    "        tree_method='gpu_hist'\n",
    "        )\n",
    "\n",
    "    xgb_best.fit(X_train, Y_train)\n",
    "    \n",
    "    return xgb_best, time_elapsed"
   ]
  },
  {
   "cell_type": "code",
   "execution_count": 30,
   "id": "44d75e8d",
   "metadata": {
    "execution": {
     "iopub.execute_input": "2021-11-17T23:49:46.216395Z",
     "iopub.status.busy": "2021-11-17T23:49:46.214730Z",
     "iopub.status.idle": "2021-11-17T23:49:46.217005Z",
     "shell.execute_reply": "2021-11-17T23:49:46.217425Z",
     "shell.execute_reply.started": "2021-11-15T07:49:47.966978Z"
    },
    "papermill": {
     "duration": 0.042709,
     "end_time": "2021-11-17T23:49:46.217553",
     "exception": false,
     "start_time": "2021-11-17T23:49:46.174844",
     "status": "completed"
    },
    "tags": []
   },
   "outputs": [],
   "source": [
    "# Loop over all assets\n",
    "\n",
    "def loop_over():\n",
    "    Xs_train = {}\n",
    "    ys_train = {}\n",
    "    models = {}\n",
    "    time_total = 0\n",
    "\n",
    "    for asset_id, asset_name in zip(asset_details['Asset_ID'], asset_details['Asset_Name']):\n",
    "\n",
    "        X_train, Y_train = data[data[\"Asset_ID\"] == asset_id][FEATURES], data[data[\"Asset_ID\"] == asset_id]['Target']\n",
    "        X_train = get_features(X_train)\n",
    "        Xs_train[asset_id], ys_train[asset_id] = X_train.reset_index(drop=True), Y_train.reset_index(drop=True)\n",
    "\n",
    "#         print('Training model for \"{}\":'.format(asset_details[asset_details['Asset_ID'] == asset_id]['Asset_Name'].iloc[0]))\n",
    "    #     models[asset_id] = get_xgb_model_cv(X_train.iloc[:10], Y_train.iloc[:10])\n",
    "        model, time_elapsed = get_xgb_model(X_train, Y_train)\n",
    "        models[asset_id] = model\n",
    "#         print(\"Exicuted time: {} seconds.\\n\".format(time_elapsed))\n",
    "        time_total += time_elapsed\n",
    "\n",
    "#     print('Total time elapsed:', time_total)\n",
    "    \n",
    "    return Xs_train, ys_train, models\n"
   ]
  },
  {
   "cell_type": "code",
   "execution_count": 31,
   "id": "d8a0ae2b",
   "metadata": {
    "execution": {
     "iopub.execute_input": "2021-11-17T23:49:46.297396Z",
     "iopub.status.busy": "2021-11-17T23:49:46.296611Z",
     "iopub.status.idle": "2021-11-17T23:55:19.144071Z",
     "shell.execute_reply": "2021-11-17T23:55:19.143048Z",
     "shell.execute_reply.started": "2021-11-15T07:49:47.978161Z"
    },
    "papermill": {
     "duration": 332.89372,
     "end_time": "2021-11-17T23:55:19.144236",
     "exception": false,
     "start_time": "2021-11-17T23:49:46.250516",
     "status": "completed"
    },
    "tags": []
   },
   "outputs": [],
   "source": [
    "Xs_train, ys_train, models = loop_over()"
   ]
  },
  {
   "cell_type": "code",
   "execution_count": 32,
   "id": "cf82441a",
   "metadata": {
    "execution": {
     "iopub.execute_input": "2021-11-17T23:55:19.221743Z",
     "iopub.status.busy": "2021-11-17T23:55:19.220904Z",
     "iopub.status.idle": "2021-11-17T23:55:19.223487Z",
     "shell.execute_reply": "2021-11-17T23:55:19.223016Z",
     "shell.execute_reply.started": "2021-11-15T07:50:01.474588Z"
    },
    "papermill": {
     "duration": 0.042756,
     "end_time": "2021-11-17T23:55:19.223599",
     "exception": false,
     "start_time": "2021-11-17T23:55:19.180843",
     "status": "completed"
    },
    "tags": []
   },
   "outputs": [],
   "source": [
    "# print('X train size:', Xs_train[1].shape)\n",
    "## print('X test size:', Xs_test[1].shape)\n",
    "# print('Y train size:', ys_train[1].shape)\n",
    "## print('Y test size:', ys_test[1].shape)"
   ]
  },
  {
   "cell_type": "code",
   "execution_count": 33,
   "id": "a99b7bdc",
   "metadata": {
    "execution": {
     "iopub.execute_input": "2021-11-17T23:55:19.298705Z",
     "iopub.status.busy": "2021-11-17T23:55:19.297057Z",
     "iopub.status.idle": "2021-11-17T23:55:19.299367Z",
     "shell.execute_reply": "2021-11-17T23:55:19.299843Z",
     "shell.execute_reply.started": "2021-11-15T07:50:01.480764Z"
    },
    "papermill": {
     "duration": 0.041504,
     "end_time": "2021-11-17T23:55:19.299978",
     "exception": false,
     "start_time": "2021-11-17T23:55:19.258474",
     "status": "completed"
    },
    "tags": []
   },
   "outputs": [],
   "source": [
    "## Save the models\n",
    "\n",
    "# import pickle\n",
    "\n",
    "# for index, asset_id in enumerate(asset_details['Asset_ID']):\n",
    "#     filename = str(asset_id) + '.pkl'\n",
    "#     with open(filename, 'wb') as file:\n",
    "#         pickle.dump(models[index], file)"
   ]
  },
  {
   "cell_type": "code",
   "execution_count": 34,
   "id": "576e09df",
   "metadata": {
    "execution": {
     "iopub.execute_input": "2021-11-17T23:55:19.372269Z",
     "iopub.status.busy": "2021-11-17T23:55:19.371503Z",
     "iopub.status.idle": "2021-11-17T23:55:19.374315Z",
     "shell.execute_reply": "2021-11-17T23:55:19.373899Z",
     "shell.execute_reply.started": "2021-11-15T07:50:01.49489Z"
    },
    "papermill": {
     "duration": 0.038682,
     "end_time": "2021-11-17T23:55:19.374429",
     "exception": false,
     "start_time": "2021-11-17T23:55:19.335747",
     "status": "completed"
    },
    "tags": []
   },
   "outputs": [],
   "source": [
    "# # Load the models\n",
    "\n",
    "# load_models = {}\n",
    "\n",
    "# for index, asset_id in enumerate(asset_details['Asset_ID']):\n",
    "#     filename = str(asset_id) + '.pkl'\n",
    "#     with open(filename, 'rb') as file:\n",
    "#         load_models[index] = pickle.load(file)\n",
    "        \n",
    "# load_models"
   ]
  },
  {
   "cell_type": "code",
   "execution_count": 35,
   "id": "aed52f6b",
   "metadata": {
    "execution": {
     "iopub.execute_input": "2021-11-17T23:55:19.446067Z",
     "iopub.status.busy": "2021-11-17T23:55:19.445306Z",
     "iopub.status.idle": "2021-11-17T23:55:19.447616Z",
     "shell.execute_reply": "2021-11-17T23:55:19.447112Z",
     "shell.execute_reply.started": "2021-11-15T07:50:01.507867Z"
    },
    "papermill": {
     "duration": 0.039413,
     "end_time": "2021-11-17T23:55:19.447744",
     "exception": false,
     "start_time": "2021-11-17T23:55:19.408331",
     "status": "completed"
    },
    "tags": []
   },
   "outputs": [],
   "source": [
    "# for i in range(len(asset_details)):\n",
    "#     predicted = models[i].predict(Xs_test[i])\n",
    "#     print(mean_squared_error(ys_test[i], predicted))"
   ]
  },
  {
   "cell_type": "code",
   "execution_count": 36,
   "id": "7cf3b704",
   "metadata": {
    "execution": {
     "iopub.execute_input": "2021-11-17T23:55:19.518094Z",
     "iopub.status.busy": "2021-11-17T23:55:19.517298Z",
     "iopub.status.idle": "2021-11-17T23:55:19.519269Z",
     "shell.execute_reply": "2021-11-17T23:55:19.519796Z",
     "shell.execute_reply.started": "2021-11-15T07:50:01.517676Z"
    },
    "papermill": {
     "duration": 0.039139,
     "end_time": "2021-11-17T23:55:19.519930",
     "exception": false,
     "start_time": "2021-11-17T23:55:19.480791",
     "status": "completed"
    },
    "tags": []
   },
   "outputs": [],
   "source": [
    "### Submit"
   ]
  },
  {
   "cell_type": "code",
   "execution_count": 37,
   "id": "27990bde",
   "metadata": {
    "execution": {
     "iopub.execute_input": "2021-11-17T23:55:19.604564Z",
     "iopub.status.busy": "2021-11-17T23:55:19.603920Z",
     "iopub.status.idle": "2021-11-17T23:55:19.882049Z",
     "shell.execute_reply": "2021-11-17T23:55:19.882948Z",
     "shell.execute_reply.started": "2021-11-15T07:50:01.530706Z"
    },
    "papermill": {
     "duration": 0.327015,
     "end_time": "2021-11-17T23:55:19.883131",
     "exception": false,
     "start_time": "2021-11-17T23:55:19.556116",
     "status": "completed"
    },
    "tags": []
   },
   "outputs": [
    {
     "name": "stdout",
     "output_type": "stream",
     "text": [
      "This version of the API is not optimized and should not be used to estimate the runtime of your code on the hidden test set.\n"
     ]
    }
   ],
   "source": [
    "env = gresearch_crypto.make_env()\n",
    "iter_test = env.iter_test()\n",
    "\n",
    "for i, (df_test, df_pred) in enumerate(iter_test):\n",
    "    for j , row in df_test.iterrows():\n",
    "        \n",
    "        if models[row['Asset_ID']] is not None:\n",
    "            try:\n",
    "                model = models[row['Asset_ID']]\n",
    "                x_test = get_features(row)\n",
    "                y_pred = model.predict(pd.DataFrame([x_test]))[0]\n",
    "                df_pred.loc[df_pred['row_id'] == row['row_id'], 'Target'] = y_pred\n",
    "            except:\n",
    "                df_pred.loc[df_pred['row_id'] == row['row_id'], 'Target'] = 0\n",
    "                traceback.print_exc()\n",
    "        else: \n",
    "            df_pred.loc[df_pred['row_id'] == row['row_id'], 'Target'] = 0\n",
    "        \n",
    "    env.predict(df_pred)\n"
   ]
  },
  {
   "cell_type": "code",
   "execution_count": null,
   "id": "1013af6c",
   "metadata": {
    "papermill": {
     "duration": 0.034488,
     "end_time": "2021-11-17T23:55:19.957284",
     "exception": false,
     "start_time": "2021-11-17T23:55:19.922796",
     "status": "completed"
    },
    "tags": []
   },
   "outputs": [],
   "source": []
  }
 ],
 "metadata": {
  "kernelspec": {
   "display_name": "Python 3",
   "language": "python",
   "name": "python3"
  },
  "language_info": {
   "codemirror_mode": {
    "name": "ipython",
    "version": 3
   },
   "file_extension": ".py",
   "mimetype": "text/x-python",
   "name": "python",
   "nbconvert_exporter": "python",
   "pygments_lexer": "ipython3",
   "version": "3.7.10"
  },
  "papermill": {
   "default_parameters": {},
   "duration": 406.841334,
   "end_time": "2021-11-17T23:55:21.409906",
   "environment_variables": {},
   "exception": null,
   "input_path": "__notebook__.ipynb",
   "output_path": "__notebook__.ipynb",
   "parameters": {},
   "start_time": "2021-11-17T23:48:34.568572",
   "version": "2.3.3"
  }
 },
 "nbformat": 4,
 "nbformat_minor": 5
}
